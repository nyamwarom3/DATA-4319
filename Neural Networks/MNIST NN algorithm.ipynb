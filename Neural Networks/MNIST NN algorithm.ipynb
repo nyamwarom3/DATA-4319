{
 "cells": [
  {
   "cell_type": "markdown",
   "metadata": {},
   "source": [
    "## MNIST NEURAL NETWORK ALGORITHM"
   ]
  },
  {
   "cell_type": "code",
   "execution_count": 34,
   "metadata": {},
   "outputs": [],
   "source": [
    "using MLDatasets\n",
    "using Images\n",
    "using TestImages\n",
    "using Plots\n",
    "\n",
    "train_x, train_y = MNIST.traindata() #returns tuples of feature measures and corresponding labels\n",
    "test_x, test_y = MNIST.testdata();"
   ]
  },
  {
   "cell_type": "code",
   "execution_count": 35,
   "metadata": {},
   "outputs": [
    {
     "data": {
      "text/plain": [
       "(28, 28, 60000)"
      ]
     },
     "execution_count": 35,
     "metadata": {},
     "output_type": "execute_result"
    }
   ],
   "source": [
    "size(train_x)"
   ]
  },
  {
   "cell_type": "code",
   "execution_count": 36,
   "metadata": {},
   "outputs": [
    {
     "data": {
      "text/plain": [
       "28×28 Array{N0f8,2} with eltype Normed{UInt8,8}:\n",
       " 0.0  0.0  0.0  0.0  0.0  0.0    0.0    …  0.0    0.0    0.0    0.0  0.0  0.0\n",
       " 0.0  0.0  0.0  0.0  0.0  0.0    0.0       0.0    0.0    0.0    0.0  0.0  0.0\n",
       " 0.0  0.0  0.0  0.0  0.0  0.0    0.0       0.0    0.0    0.0    0.0  0.0  0.0\n",
       " 0.0  0.0  0.0  0.0  0.0  0.0    0.0       0.0    0.0    0.0    0.0  0.0  0.0\n",
       " 0.0  0.0  0.0  0.0  0.0  0.0    0.0       0.0    0.216  0.533  0.0  0.0  0.0\n",
       " 0.0  0.0  0.0  0.0  0.0  0.0    0.0    …  0.0    0.675  0.992  0.0  0.0  0.0\n",
       " 0.0  0.0  0.0  0.0  0.0  0.0    0.0       0.071  0.886  0.992  0.0  0.0  0.0\n",
       " 0.0  0.0  0.0  0.0  0.0  0.0    0.0       0.671  0.992  0.992  0.0  0.0  0.0\n",
       " 0.0  0.0  0.0  0.0  0.0  0.0    0.118     0.859  0.992  0.831  0.0  0.0  0.0\n",
       " 0.0  0.0  0.0  0.0  0.0  0.0    0.141     0.992  0.992  0.529  0.0  0.0  0.0\n",
       " 0.0  0.0  0.0  0.0  0.0  0.0    0.369  …  0.992  0.992  0.518  0.0  0.0  0.0\n",
       " 0.0  0.0  0.0  0.0  0.0  0.0    0.604     0.992  0.957  0.063  0.0  0.0  0.0\n",
       " 0.0  0.0  0.0  0.0  0.0  0.012  0.667     0.992  0.522  0.0    0.0  0.0  0.0\n",
       " ⋮                        ⋮             ⋱                       ⋮         \n",
       " 0.0  0.0  0.0  0.0  0.0  0.494  0.992     0.0    0.0    0.0    0.0  0.0  0.0\n",
       " 0.0  0.0  0.0  0.0  0.0  0.533  0.992     0.0    0.0    0.0    0.0  0.0  0.0\n",
       " 0.0  0.0  0.0  0.0  0.0  0.686  0.882     0.0    0.0    0.0    0.0  0.0  0.0\n",
       " 0.0  0.0  0.0  0.0  0.0  0.102  0.675     0.0    0.0    0.0    0.0  0.0  0.0\n",
       " 0.0  0.0  0.0  0.0  0.0  0.651  0.992  …  0.0    0.0    0.0    0.0  0.0  0.0\n",
       " 0.0  0.0  0.0  0.0  0.0  1.0    0.949     0.0    0.0    0.0    0.0  0.0  0.0\n",
       " 0.0  0.0  0.0  0.0  0.0  0.969  0.765     0.0    0.0    0.0    0.0  0.0  0.0\n",
       " 0.0  0.0  0.0  0.0  0.0  0.498  0.251     0.0    0.0    0.0    0.0  0.0  0.0\n",
       " 0.0  0.0  0.0  0.0  0.0  0.0    0.0       0.0    0.0    0.0    0.0  0.0  0.0\n",
       " 0.0  0.0  0.0  0.0  0.0  0.0    0.0    …  0.0    0.0    0.0    0.0  0.0  0.0\n",
       " 0.0  0.0  0.0  0.0  0.0  0.0    0.0       0.0    0.0    0.0    0.0  0.0  0.0\n",
       " 0.0  0.0  0.0  0.0  0.0  0.0    0.0       0.0    0.0    0.0    0.0  0.0  0.0"
      ]
     },
     "execution_count": 36,
     "metadata": {},
     "output_type": "execute_result"
    }
   ],
   "source": [
    "train_x[:, :, 1]"
   ]
  },
  {
   "cell_type": "code",
   "execution_count": 37,
   "metadata": {},
   "outputs": [
    {
     "name": "stdout",
     "output_type": "stream",
     "text": [
      "The fifth image in our train data is labeled 9\n"
     ]
    },
    {
     "data": {
      "image/png": "[encoded data removed]",
      "text/plain": [
       "28×28 reinterpret(Gray{N0f8}, ::LinearAlgebra.Adjoint{Normed{UInt8,8},Array{Normed{UInt8,8},2}}):\n",
       " Gray{N0f8}(0.0)  Gray{N0f8}(0.0)  …  Gray{N0f8}(0.0)  Gray{N0f8}(0.0)\n",
       " Gray{N0f8}(0.0)  Gray{N0f8}(0.0)     Gray{N0f8}(0.0)  Gray{N0f8}(0.0)\n",
       " Gray{N0f8}(0.0)  Gray{N0f8}(0.0)     Gray{N0f8}(0.0)  Gray{N0f8}(0.0)\n",
       " Gray{N0f8}(0.0)  Gray{N0f8}(0.0)     Gray{N0f8}(0.0)  Gray{N0f8}(0.0)\n",
       " Gray{N0f8}(0.0)  Gray{N0f8}(0.0)     Gray{N0f8}(0.0)  Gray{N0f8}(0.0)\n",
       " Gray{N0f8}(0.0)  Gray{N0f8}(0.0)  …  Gray{N0f8}(0.0)  Gray{N0f8}(0.0)\n",
       " Gray{N0f8}(0.0)  Gray{N0f8}(0.0)     Gray{N0f8}(0.0)  Gray{N0f8}(0.0)\n",
       " Gray{N0f8}(0.0)  Gray{N0f8}(0.0)     Gray{N0f8}(0.0)  Gray{N0f8}(0.0)\n",
       " Gray{N0f8}(0.0)  Gray{N0f8}(0.0)     Gray{N0f8}(0.0)  Gray{N0f8}(0.0)\n",
       " Gray{N0f8}(0.0)  Gray{N0f8}(0.0)     Gray{N0f8}(0.0)  Gray{N0f8}(0.0)\n",
       " Gray{N0f8}(0.0)  Gray{N0f8}(0.0)  …  Gray{N0f8}(0.0)  Gray{N0f8}(0.0)\n",
       " Gray{N0f8}(0.0)  Gray{N0f8}(0.0)     Gray{N0f8}(0.0)  Gray{N0f8}(0.0)\n",
       " Gray{N0f8}(0.0)  Gray{N0f8}(0.0)     Gray{N0f8}(0.0)  Gray{N0f8}(0.0)\n",
       " ⋮                                 ⋱                   \n",
       " Gray{N0f8}(0.0)  Gray{N0f8}(0.0)     Gray{N0f8}(0.0)  Gray{N0f8}(0.0)\n",
       " Gray{N0f8}(0.0)  Gray{N0f8}(0.0)     Gray{N0f8}(0.0)  Gray{N0f8}(0.0)\n",
       " Gray{N0f8}(0.0)  Gray{N0f8}(0.0)     Gray{N0f8}(0.0)  Gray{N0f8}(0.0)\n",
       " Gray{N0f8}(0.0)  Gray{N0f8}(0.0)     Gray{N0f8}(0.0)  Gray{N0f8}(0.0)\n",
       " Gray{N0f8}(0.0)  Gray{N0f8}(0.0)  …  Gray{N0f8}(0.0)  Gray{N0f8}(0.0)\n",
       " Gray{N0f8}(0.0)  Gray{N0f8}(0.0)     Gray{N0f8}(0.0)  Gray{N0f8}(0.0)\n",
       " Gray{N0f8}(0.0)  Gray{N0f8}(0.0)     Gray{N0f8}(0.0)  Gray{N0f8}(0.0)\n",
       " Gray{N0f8}(0.0)  Gray{N0f8}(0.0)     Gray{N0f8}(0.0)  Gray{N0f8}(0.0)\n",
       " Gray{N0f8}(0.0)  Gray{N0f8}(0.0)     Gray{N0f8}(0.0)  Gray{N0f8}(0.0)\n",
       " Gray{N0f8}(0.0)  Gray{N0f8}(0.0)  …  Gray{N0f8}(0.0)  Gray{N0f8}(0.0)\n",
       " Gray{N0f8}(0.0)  Gray{N0f8}(0.0)     Gray{N0f8}(0.0)  Gray{N0f8}(0.0)\n",
       " Gray{N0f8}(0.0)  Gray{N0f8}(0.0)     Gray{N0f8}(0.0)  Gray{N0f8}(0.0)"
      ]
     },
     "execution_count": 37,
     "metadata": {},
     "output_type": "execute_result"
    }
   ],
   "source": [
    "println(\"The fifth image in our train data is labeled \", train_y[5])\n",
    "colorview(Gray, train_x[:, :, 5]')"
   ]
  },
  {
   "cell_type": "code",
   "execution_count": 41,
   "metadata": {},
   "outputs": [],
   "source": [
    "X = []\n",
    "Y = []\n",
    "\n",
    "for i = 1:60000\n",
    "    push!(X, reshape(train_x[:, :, i], 784))\n",
    "    y = zeros(10)\n",
    "    y[train_y[i] + 1] = 1.0\n",
    "    push!(Y, y)\n",
    "end\n",
    "train_data = [x for x in zip(X, Y)]\n",
    "\n",
    "X = []\n",
    "Y = []\n",
    "\n",
    "for i = 1:10000\n",
    "    push!(X, reshape(test_x[:, :, i], 784))\n",
    "    y = zeros(10)\n",
    "    y[test_y[i] + 1] = 1.0\n",
    "    push!(Y, y)\n",
    "end\n",
    "test_data = [x for x in zip(X, Y)];\n"
   ]
  },
  {
   "cell_type": "code",
   "execution_count": 42,
   "metadata": {},
   "outputs": [
    {
     "data": {
      "text/plain": [
       "create_network (generic function with 1 method)"
      ]
     },
     "execution_count": 42,
     "metadata": {},
     "output_type": "execute_result"
    }
   ],
   "source": [
    "#Defining the activation function and its derivative\n",
    "σ(x) = 1.0/(1.0 + exp(-x))\n",
    "\n",
    "dσ(x) = σ(x)*(1-σ(x))\n",
    "    \n",
    "#Define a neural network type\n",
    "mutable struct neural_network\n",
    "        W\n",
    "        b\n",
    "end\n",
    "    \n",
    "function create_network(input_layer_size, hidden_layer_sizes, output_layer_size)\n",
    "        \n",
    "        W = [[0.0], randn(hidden_layer_sizes[1], input_layer_size)]\n",
    "        \n",
    "        b = [[0.0], randn(hidden_layer_sizes[1])]\n",
    "        \n",
    "        for i = 2:length(hidden_layer_sizes)\n",
    "            push!(W, randn(hidden_layer_sizes[i], hidden_layer_sizes[i-1]))\n",
    "            push!(b, randn(hidden_layer_sizes[i]))\n",
    "        end\n",
    "            \n",
    "        push!(W, randn(output_layer_size, hidden_layer_sizes[end]))\n",
    "        push!(b, randn(output_layer_size)) \n",
    "        \n",
    "        return neural_network(W, b)\n",
    "end"
   ]
  },
  {
   "cell_type": "code",
   "execution_count": 44,
   "metadata": {},
   "outputs": [
    {
     "data": {
      "text/plain": [
       "neural_network(Array{Float64,N} where N[[0.0], [1.62610742240591 0.8168871649120817 … 0.371278248969474 -0.727558378380667; 0.29388254232385214 0.16135984329708186 … -0.9056049143859803 0.5476201813074554; … ; 0.5658084269070935 -0.24838091438710935 … 0.2523435471224124 -0.364009918455366; 0.401228043409053 0.5027697912148089 … 0.3228570117717009 -0.521359664583351], [-0.8385423038263539 -0.0851294844299565 … -0.18080764147413678 0.8911813836411924; -0.6793484327850635 0.06697394179078159 … 0.438021363058835 0.23484474010489545; … ; -0.8433252556643597 0.47595658721226586 … 2.1445729767480857 0.5817855491047683; 0.06655034393092737 -0.07698913735501792 … -0.02436177931077778 -1.0982664706890901], [-0.06688041976409208 -2.030262055172016 … 0.6380166528649277 -0.09883429526414725; 0.7396956560848564 -2.4608182245777717 … -1.2935548046270826 2.2241099356153247; … ; 0.9931828242973293 0.7198906467785188 … 1.7617003158052393 0.050645863449580865; -0.11080005667354054 -1.1969319044770352 … -2.4893983916473577 0.17615238043689221], [-1.0483273297546534 0.9531696432646973 … -0.043348817386402845 -2.1478488436254763; 1.0287032094891304 -0.13663014803181026 … 1.2087692295326498 -2.475949873153699; … ; 1.873605166498346 -0.15366515406903963 … -0.7706186163042404 -0.6546365720247183; 0.1509200134431895 -0.7789004693219451 … -0.8778762469876276 -1.2959434893768265]], [[0.0], [-0.23229547890668212, -0.6583067891259411, 0.10821908291528808, 0.708433631907554, -1.3501053625475647, -1.4308394993818052, -0.37291502025321843, -0.05053297102866236, -1.5727820226056946, -1.4205234343823543  …  0.19270064241867835, -2.089334731977049, -0.1888262428976873, 0.7684779813670016, -0.6475427909090106, -0.5344717766171313, 1.0261160573936339, -0.4930830367600822, -0.07934121927444485, 1.3090304630451426], [0.7384307839105974, 1.4561751526954405, 0.5739174524429959, 0.9871356687371573, 0.9777887486116217, 2.337419670467177, 1.4708896840822787, -0.10119737087887745, 0.9156390758292601, -0.3700331495632315  …  -0.023851100129119066, -1.5594722296711092, 0.6076801076223983, 0.22006113667555938, -1.9290190652402635, -0.11193296389135142, -0.5750329762913973, -1.344642969083415, 1.0444578511965394, 0.4485004066641946], [-0.22992899302695066, 0.7044146653275004, -0.5899404814353095, 0.8523592689012203, -1.2016378076786425, 1.619326406449175, 0.5539611625826317, -0.09393340355369723, -1.0381041652603717, -2.386891324181571  …  0.001490824533946634, 0.6007568404984908, 1.9068968894752802, -0.34984636037123706, -0.5472949544851381, 1.5690941881806855, -1.704170767840611, 0.5586147501649912, 0.714012465794654, -0.15160726674980193], [2.568487013266642, 1.1464504584222177, 0.8583899521765961, 0.32411735754317617, -0.15630083605236594, 0.9290288526863034, -0.256819728497188, 1.4136316181688509, 0.49246365403313913, -1.794177876618218]])"
      ]
     },
     "execution_count": 44,
     "metadata": {},
     "output_type": "execute_result"
    }
   ],
   "source": [
    "NN = create_network(784, [100, 100, 100], 10)"
   ]
  },
  {
   "cell_type": "code",
   "execution_count": 45,
   "metadata": {},
   "outputs": [
    {
     "data": {
      "text/plain": [
       "5-element Array{Array{Float64,1},1}:\n",
       " [0.0]\n",
       " [-0.23229547890668212, -0.6583067891259411, 0.10821908291528808, 0.708433631907554, -1.3501053625475647, -1.4308394993818052, -0.37291502025321843, -0.05053297102866236, -1.5727820226056946, -1.4205234343823543  …  0.19270064241867835, -2.089334731977049, -0.1888262428976873, 0.7684779813670016, -0.6475427909090106, -0.5344717766171313, 1.0261160573936339, -0.4930830367600822, -0.07934121927444485, 1.3090304630451426]\n",
       " [0.7384307839105974, 1.4561751526954405, 0.5739174524429959, 0.9871356687371573, 0.9777887486116217, 2.337419670467177, 1.4708896840822787, -0.10119737087887745, 0.9156390758292601, -0.3700331495632315  …  -0.023851100129119066, -1.5594722296711092, 0.6076801076223983, 0.22006113667555938, -1.9290190652402635, -0.11193296389135142, -0.5750329762913973, -1.344642969083415, 1.0444578511965394, 0.4485004066641946]\n",
       " [-0.22992899302695066, 0.7044146653275004, -0.5899404814353095, 0.8523592689012203, -1.2016378076786425, 1.619326406449175, 0.5539611625826317, -0.09393340355369723, -1.0381041652603717, -2.386891324181571  …  0.001490824533946634, 0.6007568404984908, 1.9068968894752802, -0.34984636037123706, -0.5472949544851381, 1.5690941881806855, -1.704170767840611, 0.5586147501649912, 0.714012465794654, -0.15160726674980193]\n",
       " [2.568487013266642, 1.1464504584222177, 0.8583899521765961, 0.32411735754317617, -0.15630083605236594, 0.9290288526863034, -0.256819728497188, 1.4136316181688509, 0.49246365403313913, -1.794177876618218]"
      ]
     },
     "execution_count": 45,
     "metadata": {},
     "output_type": "execute_result"
    }
   ],
   "source": [
    "NN.b"
   ]
  },
  {
   "cell_type": "code",
   "execution_count": 46,
   "metadata": {},
   "outputs": [
    {
     "name": "stdout",
     "output_type": "stream",
     "text": [
      "(1,)\n",
      "\n",
      "(100, 784)\n",
      "\n",
      "(100, 100)\n",
      "\n",
      "(100, 100)\n",
      "\n",
      "(10, 100)\n",
      "\n"
     ]
    }
   ],
   "source": [
    "for w in NN.W\n",
    "    println(size(w))\n",
    "    println(\"\")\n",
    "end"
   ]
  },
  {
   "cell_type": "code",
   "execution_count": 47,
   "metadata": {},
   "outputs": [
    {
     "data": {
      "text/plain": [
       "success_percentage (generic function with 1 method)"
      ]
     },
     "execution_count": 47,
     "metadata": {},
     "output_type": "execute_result"
    }
   ],
   "source": [
    "function forward_pass(network, training_instance)\n",
    "    Z = [[0.0]]\n",
    "    A = [training_instance[1]]\n",
    "    \n",
    "    for i = 2:length(network.W)\n",
    "        push!(Z, network.W[i]*A[i-1] + network.b[i])\n",
    "        push!(A, σ.(Z[i]))\n",
    "    end\n",
    "    \n",
    "    return Z,A\n",
    "end\n",
    "\n",
    "\n",
    "function predict(network, training_instance)\n",
    "    Z, A = forward_pass(network, training_instance)\n",
    "    return argmax(A[end]) - 1\n",
    "end\n",
    "\n",
    "function success_percentage(network, data_set)\n",
    "    return string(\"The percentage of correctly classified images is: \", sum([predict(network, x) == argmax(x[2]) - 1 ? 1 : 0 for x in data_set])/length(data_set)*100. , \" %\")\n",
    "end"
   ]
  },
  {
   "cell_type": "code",
   "execution_count": 48,
   "metadata": {},
   "outputs": [
    {
     "data": {
      "text/plain": [
       "\"The percentage of correctly classified images is: 11.81 %\""
      ]
     },
     "execution_count": 48,
     "metadata": {},
     "output_type": "execute_result"
    }
   ],
   "source": [
    "success_percentage(NN, test_data)"
   ]
  },
  {
   "cell_type": "code",
   "execution_count": 49,
   "metadata": {},
   "outputs": [],
   "source": [
    "function error_deltas(network, training_instance)\n",
    "    L = length(network.W)\n",
    "    Z, A = forward_pass(network, training_instance)\n",
    "    δ = [(A[end] - training_instance[2]).*dσ.(Z[end])] #array of vector that rep output and hidden errors\n",
    "    for i = L-1:-1:2\n",
    "            pushfirst!(δ, (network.W[i+1]'*δ[1]).*dσ.(Z[i]))\n",
    "    end\n",
    "    pushfirst!(δ, [0.0])\n",
    "    return A,δ\n",
    "end;"
   ]
  },
  {
   "cell_type": "code",
   "execution_count": 51,
   "metadata": {},
   "outputs": [
    {
     "data": {
      "text/plain": [
       "(Array{Normed{UInt8,8},1}[[0.0N0f8, 0.0N0f8, 0.0N0f8, 0.0N0f8, 0.0N0f8, 0.0N0f8, 0.0N0f8, 0.0N0f8, 0.0N0f8, 0.0N0f8  …  0.0N0f8, 0.0N0f8, 0.0N0f8, 0.0N0f8, 0.0N0f8, 0.0N0f8, 0.0N0f8, 0.0N0f8, 0.0N0f8, 0.0N0f8], [1.0N0f8, 0.918N0f8, 0.0N0f8, 0.996N0f8, 0.0N0f8, 0.976N0f8, 0.973N0f8, 0.537N0f8, 0.0N0f8, 0.639N0f8  …  0.071N0f8, 0.0N0f8, 0.082N0f8, 0.0N0f8, 0.141N0f8, 0.008N0f8, 0.0N0f8, 0.392N0f8, 0.0N0f8, 0.0N0f8], [0.169N0f8, 0.996N0f8, 1.0N0f8, 1.0N0f8, 1.0N0f8, 0.843N0f8, 0.0N0f8, 0.0N0f8, 0.0N0f8, 0.729N0f8  …  0.208N0f8, 0.047N0f8, 1.0N0f8, 0.0N0f8, 0.102N0f8, 1.0N0f8, 1.0N0f8, 0.671N0f8, 0.431N0f8, 0.051N0f8], [0.929N0f8, 1.0N0f8, 0.0N0f8, 0.086N0f8, 0.0N0f8, 1.0N0f8, 0.012N0f8, 0.055N0f8, 0.0N0f8, 0.004N0f8  …  0.98N0f8, 0.902N0f8, 0.988N0f8, 1.0N0f8, 0.992N0f8, 0.953N0f8, 0.0N0f8, 0.369N0f8, 0.996N0f8, 0.0N0f8], [0.996N0f8, 0.98N0f8, 0.008N0f8, 0.212N0f8, 0.255N0f8, 0.929N0f8, 0.98N0f8, 0.0N0f8, 0.0N0f8, 0.149N0f8]], [[0.0], [-1.6510843270604456e-8, -0.005548785260513429, 1.4109264872365659e-6, 0.00018712413643543464, 8.682994672262212e-6, -0.002060008447681151, 5.493006649724611e-5, -0.00635491034560223, -4.5558630174924386e-6, -0.014251237911785957  …  -0.003674789579130321, 4.4724164560348584e-5, 0.0064592894163132755, -0.00020051365909423393, 0.0054832391619228475, -0.0011004120051387727, 9.678589212295121e-5, 0.021097424911560872, 3.130283897117511e-10, 5.1129108446159074e-5], [0.0023319530937184595, 0.00032304251973788516, 0.00017301903896538848, -0.0001654806968458807, -6.818394440906143e-6, -0.008535542837115892, -0.00015010562730257118, -4.575156391115478e-8, 2.573073669003436e-9, -0.01977780294947293  …  -0.005537119835946136, 0.005570863628508352, 1.4250398608250815e-5, 1.3309739864295161e-5, -0.009029145287534795, 8.776584752155193e-5, -3.067489954091418e-8, 0.009285174285544555, 0.0013227892278905244, -0.0016559401232796441], [-0.002423265027007179, 3.6560243656580365e-7, -7.980574350593918e-6, 0.008473136459634639, -1.5888869169356935e-7, 3.593729583436237e-9, 0.0010249685907558013, 0.001390675644558879, -1.0157404842641157e-7, -0.00022806528287881025  …  -0.0018446996355454331, -0.004159018721599237, 0.0010618849396411571, 5.4319851481417795e-8, -0.00015382363104007716, 0.0013595267652897068, -5.2211369244884836e-5, 0.026618208888590605, -0.00014016157804355283, -4.322946470655345e-6], [0.004735475622138032, 0.01853693008490179, 6.094645782129708e-5, 0.035170214638196744, 0.048362473875896074, -0.0045758485753144, 0.01819194906356358, 0.0, 0.0, 0.019094411608351916]])"
      ]
     },
     "execution_count": 51,
     "metadata": {},
     "output_type": "execute_result"
    }
   ],
   "source": [
    "A_test, δ_test = error_deltas(NN, train_data[1])"
   ]
  },
  {
   "cell_type": "code",
   "execution_count": 52,
   "metadata": {},
   "outputs": [
    {
     "data": {
      "text/plain": [
       "10-element Array{Float64,1}:\n",
       "  0.004735475622138032\n",
       "  0.01853693008490179\n",
       "  6.094645782129708e-5\n",
       "  0.035170214638196744\n",
       "  0.048362473875896074\n",
       " -0.0045758485753144\n",
       "  0.01819194906356358\n",
       "  0.0\n",
       "  0.0\n",
       "  0.019094411608351916"
      ]
     },
     "execution_count": 52,
     "metadata": {},
     "output_type": "execute_result"
    }
   ],
   "source": [
    "δ_test[end]"
   ]
  },
  {
   "cell_type": "code",
   "execution_count": 53,
   "metadata": {},
   "outputs": [],
   "source": [
    "function make_random_mini_batch(mini_batch_size, data_set)\n",
    "    k = rand(1:length(data_set) - mini_batch_size)\n",
    "    return data_set[k:k + mini_batch_size]\n",
    "end\n",
    "\n",
    "function mini_batch_update!(network, mini_batch_size, data_set, α)\n",
    "    mini_batch = make_random_mini_batch(mini_batch_size, data_set)\n",
    "    L = length(network.W)\n",
    "    \n",
    "    A, δ = error_deltas(network, mini_batch[1])\n",
    "    A_batch = []\n",
    "    δ_batch = []\n",
    "    push!(A_batch, A)\n",
    "    push!(δ_batch, δ)\n",
    "    \n",
    "    for i = 2:mini_batch_size\n",
    "        A,δ = error_deltas(network, mini_batch[i])\n",
    "        push!(A_batch, A)\n",
    "        push!(δ_batch, δ)\n",
    "    end\n",
    "    \n",
    "    for l = L:-1:2\n",
    "        network.W[l] -= (α/mini_batch_size)*sum([δ_batch[i][l]*A_batch[i][l-1]' for i = 1:mini_batch_size])\n",
    "        network.b[l] -= (α/mini_batch_size)*sum([δ_batch[i][l] for i = 1:mini_batch_size])\n",
    "    end\n",
    "end;"
   ]
  },
  {
   "cell_type": "code",
   "execution_count": 66,
   "metadata": {},
   "outputs": [],
   "source": [
    "for _ = 1:80000\n",
    "    mini_batch_update!(NN, 8, train_data, 0.002)\n",
    "end"
   ]
  },
  {
   "cell_type": "code",
   "execution_count": 67,
   "metadata": {},
   "outputs": [
    {
     "data": {
      "text/plain": [
       "\"The percentage of correctly classified images is: 87.87 %\""
      ]
     },
     "execution_count": 67,
     "metadata": {},
     "output_type": "execute_result"
    }
   ],
   "source": [
    "success_percentage(NN, test_data)"
   ]
  },
  {
   "cell_type": "code",
   "execution_count": 68,
   "metadata": {},
   "outputs": [
    {
     "data": {
      "text/plain": [
       "show_test_example (generic function with 1 method)"
      ]
     },
     "execution_count": 68,
     "metadata": {},
     "output_type": "execute_result"
    }
   ],
   "source": [
    "function show_test_img(i)\n",
    "    colorview(Gray, test_x[:,:,i]')\n",
    "end\n",
    "\n",
    "function show_test_example(network, i, testing_data)\n",
    "    println(\"Predicted label: \", predict(network, testing_data[i]))\n",
    "    println(\"Actual label: \", argmax(testing_data[i][2])-1)\n",
    "    show_test_img(i)\n",
    "end"
   ]
  },
  {
   "cell_type": "code",
   "execution_count": 76,
   "metadata": {},
   "outputs": [
    {
     "name": "stdout",
     "output_type": "stream",
     "text": [
      "Predicted label: 4\n",
      "Actual label: 4\n"
     ]
    },
    {
     "data": {
      "image/png": "[encoded data removed]",
      "text/plain": [
       "28×28 reinterpret(Gray{N0f8}, ::LinearAlgebra.Adjoint{Normed{UInt8,8},Array{Normed{UInt8,8},2}}):\n",
       " Gray{N0f8}(0.0)  Gray{N0f8}(0.0)  …  Gray{N0f8}(0.0)  Gray{N0f8}(0.0)\n",
       " Gray{N0f8}(0.0)  Gray{N0f8}(0.0)     Gray{N0f8}(0.0)  Gray{N0f8}(0.0)\n",
       " Gray{N0f8}(0.0)  Gray{N0f8}(0.0)     Gray{N0f8}(0.0)  Gray{N0f8}(0.0)\n",
       " Gray{N0f8}(0.0)  Gray{N0f8}(0.0)     Gray{N0f8}(0.0)  Gray{N0f8}(0.0)\n",
       " Gray{N0f8}(0.0)  Gray{N0f8}(0.0)     Gray{N0f8}(0.0)  Gray{N0f8}(0.0)\n",
       " Gray{N0f8}(0.0)  Gray{N0f8}(0.0)  …  Gray{N0f8}(0.0)  Gray{N0f8}(0.0)\n",
       " Gray{N0f8}(0.0)  Gray{N0f8}(0.0)     Gray{N0f8}(0.0)  Gray{N0f8}(0.0)\n",
       " Gray{N0f8}(0.0)  Gray{N0f8}(0.0)     Gray{N0f8}(0.0)  Gray{N0f8}(0.0)\n",
       " Gray{N0f8}(0.0)  Gray{N0f8}(0.0)     Gray{N0f8}(0.0)  Gray{N0f8}(0.0)\n",
       " Gray{N0f8}(0.0)  Gray{N0f8}(0.0)     Gray{N0f8}(0.0)  Gray{N0f8}(0.0)\n",
       " Gray{N0f8}(0.0)  Gray{N0f8}(0.0)  …  Gray{N0f8}(0.0)  Gray{N0f8}(0.0)\n",
       " Gray{N0f8}(0.0)  Gray{N0f8}(0.0)     Gray{N0f8}(0.0)  Gray{N0f8}(0.0)\n",
       " Gray{N0f8}(0.0)  Gray{N0f8}(0.0)     Gray{N0f8}(0.0)  Gray{N0f8}(0.0)\n",
       " ⋮                                 ⋱                   \n",
       " Gray{N0f8}(0.0)  Gray{N0f8}(0.0)     Gray{N0f8}(0.0)  Gray{N0f8}(0.0)\n",
       " Gray{N0f8}(0.0)  Gray{N0f8}(0.0)     Gray{N0f8}(0.0)  Gray{N0f8}(0.0)\n",
       " Gray{N0f8}(0.0)  Gray{N0f8}(0.0)     Gray{N0f8}(0.0)  Gray{N0f8}(0.0)\n",
       " Gray{N0f8}(0.0)  Gray{N0f8}(0.0)     Gray{N0f8}(0.0)  Gray{N0f8}(0.0)\n",
       " Gray{N0f8}(0.0)  Gray{N0f8}(0.0)  …  Gray{N0f8}(0.0)  Gray{N0f8}(0.0)\n",
       " Gray{N0f8}(0.0)  Gray{N0f8}(0.0)     Gray{N0f8}(0.0)  Gray{N0f8}(0.0)\n",
       " Gray{N0f8}(0.0)  Gray{N0f8}(0.0)     Gray{N0f8}(0.0)  Gray{N0f8}(0.0)\n",
       " Gray{N0f8}(0.0)  Gray{N0f8}(0.0)     Gray{N0f8}(0.0)  Gray{N0f8}(0.0)\n",
       " Gray{N0f8}(0.0)  Gray{N0f8}(0.0)     Gray{N0f8}(0.0)  Gray{N0f8}(0.0)\n",
       " Gray{N0f8}(0.0)  Gray{N0f8}(0.0)  …  Gray{N0f8}(0.0)  Gray{N0f8}(0.0)\n",
       " Gray{N0f8}(0.0)  Gray{N0f8}(0.0)     Gray{N0f8}(0.0)  Gray{N0f8}(0.0)\n",
       " Gray{N0f8}(0.0)  Gray{N0f8}(0.0)     Gray{N0f8}(0.0)  Gray{N0f8}(0.0)"
      ]
     },
     "execution_count": 76,
     "metadata": {},
     "output_type": "execute_result"
    }
   ],
   "source": [
    "i = rand([x for x = 1:10000])\n",
    "show_test_example(NN, i, test_data)"
   ]
  },
  {
   "cell_type": "code",
   "execution_count": null,
   "metadata": {},
   "outputs": [],
   "source": []
  }
 ],
 "metadata": {
  "kernelspec": {
   "display_name": "Julia 1.5.3",
   "language": "julia",
   "name": "julia-1.5"
  },
  "language_info": {
   "file_extension": ".jl",
   "mimetype": "application/julia",
   "name": "julia",
   "version": "1.5.3"
  }
 },
 "nbformat": 4,
 "nbformat_minor": 4
}
